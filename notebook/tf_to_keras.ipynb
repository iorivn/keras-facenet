{
 "cells": [
  {
   "cell_type": "markdown",
   "source": [
    "# TensorFlow to Keras"
   ],
   "metadata": {
    "ExecuteTime": {
     "end_time": "2017-12-18T16:42:19.830501Z",
     "start_time": "2017-12-18T16:42:19.825056Z"
    }
   }
  },
  {
   "cell_type": "markdown",
   "source": [
    "### Reference\n",
    "- https://github.com/myutwo150/keras-inception-resnet-v2"
   ],
   "metadata": {}
  },
  {
   "cell_type": "markdown",
   "source": [
    "### Pre-trained tensorflow models\n",
    "\n",
    "- https://github.com/davidsandberg/facenet"
   ],
   "metadata": {}
  },
  {
   "cell_type": "code",
   "execution_count": 1,
   "source": [
    "import sys\r\n",
    "sys.path.append('../code/')\r\n",
    "\r\n",
    "import os\r\n",
    "import re\r\n",
    "import numpy as np\r\n",
    "import tensorflow as tf\r\n",
    "\r\n",
    "from inception_resnet_v1 import *"
   ],
   "outputs": [],
   "metadata": {
    "ExecuteTime": {
     "end_time": "2017-12-27T10:45:41.868059Z",
     "start_time": "2017-12-27T10:45:41.207755Z"
    }
   }
  },
  {
   "cell_type": "code",
   "execution_count": 2,
   "source": [
    "tf_model_dir = '../model/tf/20180402-114759/'\r\n",
    "npy_weights_dir = '../model/keras/npy_weights/'\r\n",
    "weights_dir = '../model/keras/weights/'\r\n",
    "model_dir = '../model/keras/model/'\r\n",
    "\r\n",
    "weights_filename = 'facenet_keras_weights.h5'\r\n",
    "model_filename = 'facenet_keras.h5'"
   ],
   "outputs": [],
   "metadata": {
    "ExecuteTime": {
     "end_time": "2017-12-27T10:45:42.700055Z",
     "start_time": "2017-12-27T10:45:42.696473Z"
    },
    "collapsed": true
   }
  },
  {
   "cell_type": "code",
   "execution_count": 3,
   "source": [
    "os.makedirs(npy_weights_dir, exist_ok=True)\r\n",
    "os.makedirs(weights_dir, exist_ok=True)\r\n",
    "os.makedirs(model_dir, exist_ok=True)"
   ],
   "outputs": [],
   "metadata": {
    "ExecuteTime": {
     "end_time": "2017-12-27T10:45:45.459543Z",
     "start_time": "2017-12-27T10:45:45.456524Z"
    },
    "collapsed": true
   }
  },
  {
   "cell_type": "code",
   "execution_count": 6,
   "source": [
    "# regex for renaming the tensors to their corresponding Keras counterpart\r\n",
    "re_repeat = re.compile(r'Repeat_[0-9_]*b')\r\n",
    "re_block8 = re.compile(r'Block8_[A-Za-z]')\r\n",
    "\r\n",
    "def get_filename(key):\r\n",
    "    filename = str(key)\r\n",
    "    filename = filename.replace('/', '_')\r\n",
    "    filename = filename.replace('InceptionResnetV1_', '')\r\n",
    "\r\n",
    "    # remove \"Repeat\" scope from filename\r\n",
    "    filename = re_repeat.sub('B', filename)\r\n",
    "\r\n",
    "    if re_block8.match(filename):\r\n",
    "        # the last block8 has different name with the previous 5 occurrences\r\n",
    "        filename = filename.replace('Block8', 'Block8_6')\r\n",
    "\r\n",
    "    # from TF to Keras naming\r\n",
    "    filename = filename.replace('_weights', '_kernel')\r\n",
    "    filename = filename.replace('_biases', '_bias')\r\n",
    "\r\n",
    "    return filename + '.npy'\r\n",
    "\r\n",
    "\r\n",
    "def extract_tensors_from_checkpoint_file(filename, output_folder):\r\n",
    "    reader = tf.compat.v1.train.NewCheckpointReader(filename)\r\n",
    "\r\n",
    "    for key in reader.get_variable_to_shape_map():\r\n",
    "        # not saving the following tensors\r\n",
    "        if key == 'global_step':\r\n",
    "            continue\r\n",
    "        if 'AuxLogit' in key:\r\n",
    "            continue\r\n",
    "\r\n",
    "        # convert tensor name into the corresponding Keras layer weight name and save\r\n",
    "        path = os.path.join(output_folder, get_filename(key))\r\n",
    "        arr = reader.get_tensor(key)\r\n",
    "        np.save(path, arr)"
   ],
   "outputs": [],
   "metadata": {
    "ExecuteTime": {
     "end_time": "2017-12-27T10:45:47.200605Z",
     "start_time": "2017-12-27T10:45:47.168120Z"
    },
    "collapsed": true
   }
  },
  {
   "cell_type": "code",
   "execution_count": 7,
   "source": [
    "extract_tensors_from_checkpoint_file(tf_model_dir+'model-20180402-114759.ckpt-275', npy_weights_dir)"
   ],
   "outputs": [],
   "metadata": {
    "ExecuteTime": {
     "end_time": "2017-12-27T10:45:48.440655Z",
     "start_time": "2017-12-27T10:45:48.253325Z"
    },
    "collapsed": true
   }
  },
  {
   "cell_type": "code",
   "execution_count": 3,
   "source": [
    "model = get_inception_resnet_v1()\r\n",
    "# model.summary()"
   ],
   "outputs": [],
   "metadata": {
    "ExecuteTime": {
     "end_time": "2017-12-27T10:45:52.208432Z",
     "start_time": "2017-12-27T10:45:49.347963Z"
    },
    "collapsed": true
   }
  },
  {
   "cell_type": "code",
   "execution_count": 4,
   "source": [
    "print('Loading numpy weights from', npy_weights_dir)\r\n",
    "for layer in model.layers:\r\n",
    "    if layer.weights:\r\n",
    "        weights = []\r\n",
    "        for w in layer.weights:\r\n",
    "            weight_name = os.path.basename(w.name).replace(':0', '')\r\n",
    "            weight_file = layer.name + '_' + weight_name + '.npy'\r\n",
    "            weight_arr = np.load(os.path.join(npy_weights_dir, weight_file))\r\n",
    "            weights.append(weight_arr)\r\n",
    "        layer.set_weights(weights)\r\n",
    "\r\n",
    "print('Saving weights...')\r\n",
    "model.save_weights(os.path.join(weights_dir, weights_filename))\r\n",
    "print('Saving model...')\r\n",
    "model.save(os.path.join(model_dir, model_filename))"
   ],
   "outputs": [
    {
     "output_type": "stream",
     "name": "stdout",
     "text": [
      "Loading numpy weights from ../model/keras/npy_weights/\n",
      "Saving weights...\n",
      "Saving model...\n",
      "WARNING:tensorflow:Compiled the loaded model, but the compiled metrics have yet to be built. `model.compile_metrics` will be empty until you train or evaluate the model.\n"
     ]
    },
    {
     "output_type": "stream",
     "name": "stderr",
     "text": [
      "C:\\Users\\dangh\\miniconda3\\envs\\tf\\lib\\site-packages\\keras\\utils\\generic_utils.py:494: CustomMaskWarning: Custom mask layers require a config and must override get_config. When loading, the custom mask layer must be passed to the custom_objects argument.\n",
      "  warnings.warn('Custom mask layers require a config and must override '\n"
     ]
    }
   ],
   "metadata": {
    "ExecuteTime": {
     "end_time": "2017-12-27T10:46:23.916513Z",
     "start_time": "2017-12-27T10:45:53.621944Z"
    }
   }
  }
 ],
 "metadata": {
  "kernelspec": {
   "name": "python3",
   "display_name": "Python 3.9.7 64-bit ('tf': conda)"
  },
  "language_info": {
   "codemirror_mode": {
    "name": "ipython",
    "version": 3
   },
   "file_extension": ".py",
   "mimetype": "text/x-python",
   "name": "python",
   "nbconvert_exporter": "python",
   "pygments_lexer": "ipython3",
   "version": "3.9.7"
  },
  "toc": {
   "nav_menu": {},
   "number_sections": true,
   "sideBar": true,
   "skip_h1_title": false,
   "toc_cell": false,
   "toc_position": {},
   "toc_section_display": "block",
   "toc_window_display": false
  },
  "varInspector": {
   "cols": {
    "lenName": 16,
    "lenType": 16,
    "lenVar": 40
   },
   "kernels_config": {
    "python": {
     "delete_cmd_postfix": "",
     "delete_cmd_prefix": "del ",
     "library": "var_list.py",
     "varRefreshCmd": "print(var_dic_list())"
    },
    "r": {
     "delete_cmd_postfix": ") ",
     "delete_cmd_prefix": "rm(",
     "library": "var_list.r",
     "varRefreshCmd": "cat(var_dic_list()) "
    }
   },
   "types_to_exclude": [
    "module",
    "function",
    "builtin_function_or_method",
    "instance",
    "_Feature"
   ],
   "window_display": false
  },
  "interpreter": {
   "hash": "79d581da7b7547b03852adb09cb65c18c4e223dfb62f3e08401db497dbb2104a"
  }
 },
 "nbformat": 4,
 "nbformat_minor": 2
}